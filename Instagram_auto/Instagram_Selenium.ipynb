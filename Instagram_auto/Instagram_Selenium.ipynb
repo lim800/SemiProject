{
 "cells": [
  {
   "cell_type": "code",
   "execution_count": 13,
   "metadata": {
    "scrolled": true
   },
   "outputs": [
    {
     "name": "stdout",
     "output_type": "stream",
     "text": [
      "Collecting selenium\n",
      "  Downloading selenium-4.10.0-py3-none-any.whl (6.7 MB)\n",
      "\u001b[K     |████████████████████████████████| 6.7 MB 49 kB/s eta 0:00:013\n",
      "\u001b[?25hCollecting urllib3[socks]<3,>=1.26\n",
      "  Downloading urllib3-2.0.3-py3-none-any.whl (123 kB)\n",
      "\u001b[K     |████████████████████████████████| 123 kB 263 kB/s eta 0:00:01\n",
      "\u001b[?25hCollecting certifi>=2021.10.8\n",
      "  Downloading certifi-2023.5.7-py3-none-any.whl (156 kB)\n",
      "\u001b[K     |████████████████████████████████| 156 kB 226 kB/s eta 0:00:01\n",
      "\u001b[?25hCollecting trio~=0.17\n",
      "  Downloading trio-0.22.1-py3-none-any.whl (399 kB)\n",
      "\u001b[K     |████████████████████████████████| 399 kB 221 kB/s eta 0:00:01\n",
      "\u001b[?25hCollecting trio-websocket~=0.9\n",
      "  Downloading trio_websocket-0.10.3-py3-none-any.whl (17 kB)\n",
      "Requirement already satisfied: pysocks!=1.5.7,<2.0,>=1.5.6; extra == \"socks\" in /Users/lesson6_mac/opt/anaconda3/lib/python3.8/site-packages (from urllib3[socks]<3,>=1.26->selenium) (1.7.1)\n",
      "Requirement already satisfied: attrs>=20.1.0 in /Users/lesson6_mac/opt/anaconda3/lib/python3.8/site-packages (from trio~=0.17->selenium) (20.3.0)\n",
      "Requirement already satisfied: idna in /Users/lesson6_mac/opt/anaconda3/lib/python3.8/site-packages (from trio~=0.17->selenium) (2.10)\n",
      "Collecting sniffio\n",
      "  Downloading sniffio-1.3.0-py3-none-any.whl (10 kB)\n",
      "Requirement already satisfied: sortedcontainers in /Users/lesson6_mac/opt/anaconda3/lib/python3.8/site-packages (from trio~=0.17->selenium) (2.2.2)\n",
      "Collecting exceptiongroup>=1.0.0rc9; python_version < \"3.11\"\n",
      "  Downloading exceptiongroup-1.1.2-py3-none-any.whl (14 kB)\n",
      "Collecting outcome\n",
      "  Downloading outcome-1.2.0-py2.py3-none-any.whl (9.7 kB)\n",
      "Collecting wsproto>=0.14\n",
      "  Downloading wsproto-1.2.0-py3-none-any.whl (24 kB)\n",
      "Collecting h11<1,>=0.9.0\n",
      "  Downloading h11-0.14.0-py3-none-any.whl (58 kB)\n",
      "\u001b[K     |████████████████████████████████| 58 kB 2.4 MB/s eta 0:00:01\n",
      "\u001b[?25hInstalling collected packages: urllib3, certifi, sniffio, exceptiongroup, outcome, trio, h11, wsproto, trio-websocket, selenium\n",
      "  Attempting uninstall: urllib3\n",
      "    Found existing installation: urllib3 1.25.11\n",
      "    Uninstalling urllib3-1.25.11:\n",
      "      Successfully uninstalled urllib3-1.25.11\n",
      "  Attempting uninstall: certifi\n",
      "    Found existing installation: certifi 2020.6.20\n",
      "    Uninstalling certifi-2020.6.20:\n",
      "      Successfully uninstalled certifi-2020.6.20\n",
      "\u001b[31mERROR: After October 2020 you may experience errors when installing or updating packages. This is because pip will change the way that it resolves dependency conflicts.\n",
      "\n",
      "We recommend you use --use-feature=2020-resolver to test your packages with the new resolver before it becomes the default.\n",
      "\n",
      "requests 2.24.0 requires urllib3!=1.25.0,!=1.25.1,<1.26,>=1.21.1, but you'll have urllib3 2.0.3 which is incompatible.\u001b[0m\n",
      "Successfully installed certifi-2023.5.7 exceptiongroup-1.1.2 h11-0.14.0 outcome-1.2.0 selenium-4.10.0 sniffio-1.3.0 trio-0.22.1 trio-websocket-0.10.3 urllib3-2.0.3 wsproto-1.2.0\n",
      "Note: you may need to restart the kernel to use updated packages.\n"
     ]
    }
   ],
   "source": [
    "pip install selenium"
   ]
  },
  {
   "cell_type": "code",
   "execution_count": 8,
   "metadata": {
    "scrolled": true
   },
   "outputs": [
    {
     "name": "stdout",
     "output_type": "stream",
     "text": [
      "Collecting chromedriver-binary\n",
      "  Downloading chromedriver-binary-114.0.5735.90.0.tar.gz (5.1 kB)\n",
      "Building wheels for collected packages: chromedriver-binary\n",
      "  Building wheel for chromedriver-binary (setup.py) ... \u001b[?25ldone\n",
      "\u001b[?25h  Created wheel for chromedriver-binary: filename=chromedriver_binary-114.0.5735.90.0-py3-none-any.whl size=8652898 sha256=623a3d9cd1b4cf01e11f4312fb5779948845f640b6b479294df141512dcabe21\n",
      "  Stored in directory: /Users/lesson6_mac/Library/Caches/pip/wheels/25/8b/e5/5a8903baa691eef9abed0aea8da88e227c1abf00e5f7dbc884\n",
      "Successfully built chromedriver-binary\n",
      "Installing collected packages: chromedriver-binary\n",
      "Successfully installed chromedriver-binary-114.0.5735.90.0\n",
      "Note: you may need to restart the kernel to use updated packages.\n"
     ]
    }
   ],
   "source": [
    "pip install chromedriver-binary"
   ]
  },
  {
   "cell_type": "code",
   "execution_count": 1,
   "metadata": {},
   "outputs": [],
   "source": [
    "from selenium import webdriver\n",
    "import chromedriver_binary\n",
    "from selenium.webdriver.support.ui import WebDriverWait\n",
    "from selenium.webdriver.common.by import By\n",
    "from selenium.webdriver.support import expected_conditions as EC\n",
    "import time\n",
    "from random import seed\n",
    "from random import randint"
   ]
  },
  {
   "cell_type": "markdown",
   "metadata": {},
   "source": [
    "### "
   ]
  },
  {
   "cell_type": "code",
   "execution_count": null,
   "metadata": {},
   "outputs": [],
   "source": [
    "driver = webdriver.Chrome()\n",
    "driver.get(\"https://www.instagram.com/\")\n",
    "\n",
    "randTime = randint(6, 12)\n",
    "\n",
    "#wait until the XPATH is loaded (10 sec max)\n",
    "wait = WebDriverWait(driver, 10)\n",
    "element = wait.until(EC.presence_of_element_located((By.XPATH, '//*[@id=\"loginForm\"]/div/div[1]/div/label/input')))\n",
    "\n",
    "driver.find_element(By.XPATH,'//*[@id=\"loginForm\"]/div/div[1]/div/label/input').send_keys(\"ID\")  #type the ID\n",
    "driver.find_element(By.XPATH,'//*[@id=\"loginForm\"]/div/div[2]/div/label/input').send_keys(\"PASS\") #type the password\n",
    "driver.find_element(By.XPATH,\\\n",
    "                    '//*[@id=\"loginForm\"]/div/div[3]').click() #click the login button\n",
    "\n",
    "element = WebDriverWait(driver, 10).until(EC.presence_of_element_located((By.XPATH, '//button[contains(text(), \"backup code\")]')))\n",
    "driver.find_element(By.XPATH,\\\n",
    "                    '//button[contains(text(), \"backup code\")]').click()\n",
    "\n",
    "driver.find_element(By.XPATH,\\\n",
    "                    '/html/body/div[2]/div/div/div[1]/div/div/div/div[1]/section/main/div/div/div[1]/div[2]/form/div[1]/div/label/input').send_keys(\"07532986\")  #type backup code\n",
    "\n",
    "element = WebDriverWait(driver, 10).until(EC.presence_of_element_located((By.XPATH, '//button[contains(text(), \"confirm\")]')))\n",
    "driver.find_element(By.XPATH,\\\n",
    "                    '//button[contains(text(), \"confirm\")]').click()\n",
    "\n",
    "#click the later button\n",
    "# time.sleep(randTime)\n",
    "try:\n",
    "    element = WebDriverWait(driver, 10).until(EC.presence_of_element_located((By.XPATH, '//div[contains(text(), \"나중에 하기\")]')))\n",
    "    driver.find_element(By.XPATH,\\\n",
    "                        '//div[contains(text(), \"나중에 하기\")]').click()\n",
    "except:\n",
    "    element = wait.until(EC.presence_of_element_located((By.XPATH, '//div[contains(text(), \"Not Now\")]')))\n",
    "    driver.find_element(By.XPATH,\\\n",
    "                    '//div[contains(text(), \"Not Now\")]').click() \n",
    "\n",
    "\n",
    "#click the later button\n",
    "time.sleep(randTime)\n",
    "try:\n",
    "    driver.find_element(By.XPATH,\\\n",
    "                    '//button[contains(text(), \"나중에 하기\")]').click()\n",
    "except:\n",
    "    driver.find_element(By.XPATH,\\\n",
    "                    '//button[contains(text(), \"Not Now\")]').click()\n",
    "\n",
    "\n",
    "#click the all suggested list\n",
    "time.sleep(randTime)\n",
    "driver.find_element(By.XPATH,\\\n",
    "                    '/html/body/div[2]/div/div/div[2]/div/div/div/div[1]/div[1]/div[2]/section/main/div[1]/div[2]/div/div[2]/div/div/div[1]/a/span').click()\n",
    "\n",
    "#click the following request button\n",
    "time.sleep(randTime)\n",
    "driver.find_element(By.XPATH,\\\n",
    "                    '/html/body/div[2]/div/div/div[2]/div/div/div/div[1]/div[1]/div[2]/section/main/div/div[2]/div/div/div[1]/div/div/div/div[3]/div/button/div/div').click()\n",
    "#click the following request button\n",
    "time.sleep(randTime)\n",
    "driver.find_element(By.XPATH,\\\n",
    "                    '/html/body/div[2]/div/div/div[2]/div/div/div/div[1]/div[1]/div[2]/section/main/div/div[2]/div/div/div[2]/div/div/div/div[3]/div/button/div/div').click()\n",
    "#click the following request button\n",
    "time.sleep(randTime)\n",
    "driver.find_element(By.XPATH,\\\n",
    "                    '/html/body/div[2]/div/div/div[2]/div/div/div/div[1]/div[1]/div[2]/section/main/div/div[2]/div/div/div[3]/div/div/div/div[3]/div/button/div/div').click()\n",
    "#click the following request button\n",
    "time.sleep(randTime)\n",
    "driver.find_element(By.XPATH,\\\n",
    "                    '/html/body/div[2]/div/div/div[2]/div/div/div/div[1]/div[1]/div[2]/section/main/div/div[2]/div/div/div[4]/div/div/div/div[3]/div/button/div/div').click()\n",
    "\n"
   ]
  },
  {
   "cell_type": "code",
   "execution_count": 3,
   "metadata": {},
   "outputs": [],
   "source": [
    "driver.quit()"
   ]
  },
  {
   "cell_type": "code",
   "execution_count": null,
   "metadata": {},
   "outputs": [],
   "source": []
  }
 ],
 "metadata": {
  "kernelspec": {
   "display_name": "Python 3",
   "language": "python",
   "name": "python3"
  },
  "language_info": {
   "codemirror_mode": {
    "name": "ipython",
    "version": 3
   },
   "file_extension": ".py",
   "mimetype": "text/x-python",
   "name": "python",
   "nbconvert_exporter": "python",
   "pygments_lexer": "ipython3",
   "version": "3.8.5"
  }
 },
 "nbformat": 4,
 "nbformat_minor": 4
}
