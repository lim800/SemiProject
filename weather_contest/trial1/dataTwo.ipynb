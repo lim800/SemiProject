{
 "cells": [
  {
   "cell_type": "code",
   "execution_count": 1,
   "metadata": {},
   "outputs": [],
   "source": [
    "import numpy as np\n",
    "import pandas as pd\n",
    "import matplotlib as mpl\n",
    "import matplotlib.pyplot as plt\n",
    "from matplotlib import rcParams\n",
    "\n",
    "import sklearn\n",
    "from sklearn.model_selection import train_test_split\n",
    "from sklearn.preprocessing import PolynomialFeatures\n",
    "from sklearn.pipeline import make_pipeline\n",
    "from sklearn.linear_model import LinearRegression, Ridge, Lasso, ElasticNet\n",
    "from sklearn.model_selection import KFold\n",
    "from sklearn.metrics import mean_squared_error\n",
    "\n",
    "import statsmodels\n",
    "from statsmodels.formula.api import ols\n",
    "from statsmodels.stats.outliers_influence import variance_inflation_factor\n",
    "\n",
    "from scipy import stats\n",
    "from scipy.stats import skew,norm\n",
    "from scipy.stats.stats import pearsonr\n",
    "\n",
    "import seaborn as sns\n",
    "mpl.rcParams['toolbar'] = 'None'"
   ]
  },
  {
   "cell_type": "code",
   "execution_count": 1,
   "metadata": {},
   "outputs": [],
   "source": [
    "# refining data -> mini\n",
    "df = pd.read_excel('/Users/lesson6_mac/Downloads/TeamProject/combined_all.xlsx')\n",
    "df.drop(columns=['CommandName','CenterName','Date','Location','Overview'], inplace=True)\n",
    "df.rename({'total.Humi':'humi','total.temp':'temp','total.wind':'wind','total.rain':'rain','total.dew':'dew','total.snow':'snow'}, inplace=True, axis= 1)\n",
    "df.to_excel('comb_mini.xlsx')"
   ]
  },
  {
   "cell_type": "code",
   "execution_count": 1,
   "metadata": {},
   "outputs": [],
   "source": [
    "df = pd.read_excel('/Users/lesson6_mac/Downloads/TeamProject/comb_mini.xlsx')"
   ]
  },
  {
   "cell_type": "code",
   "execution_count": 2,
   "metadata": {},
   "outputs": [
    {
     "name": "stdout",
     "output_type": "stream",
     "text": [
      "<class 'pandas.core.frame.DataFrame'>\n",
      "Int64Index: 31665 entries, 0 to 31664\n",
      "Data columns (total 7 columns):\n",
      "Cause    31665 non-null object\n",
      "humi     31662 non-null float64\n",
      "temp     31654 non-null float64\n",
      "wind     31652 non-null float64\n",
      "rain     31665 non-null float64\n",
      "dew      31659 non-null float64\n",
      "snow     31665 non-null float64\n",
      "dtypes: float64(6), object(1)\n",
      "memory usage: 1.9+ MB\n"
     ]
    }
   ],
   "source": [
    "df.info()"
   ]
  },
  {
   "cell_type": "code",
   "execution_count": 6,
   "metadata": {},
   "outputs": [
    {
     "data": {
      "text/plain": [
       "count    31654.000000\n",
       "mean        16.328536\n",
       "std          9.736133\n",
       "min        -15.900000\n",
       "25%          9.500000\n",
       "50%         18.650000\n",
       "75%         23.875000\n",
       "max         37.600000\n",
       "Name: temp, dtype: float64"
      ]
     },
     "execution_count": 6,
     "metadata": {},
     "output_type": "execute_result"
    }
   ],
   "source": [
    "des = df['temp'].describe()\n",
    "des"
   ]
  },
  {
   "cell_type": "code",
   "execution_count": 7,
   "metadata": {},
   "outputs": [
    {
     "data": {
      "text/plain": [
       "10.9"
      ]
     },
     "execution_count": 7,
     "metadata": {},
     "output_type": "execute_result"
    }
   ],
   "source": [
    "add_amt = (des['max'] - des['min'] + 1) /5\n",
    "add_amt"
   ]
  },
  {
   "cell_type": "code",
   "execution_count": 8,
   "metadata": {},
   "outputs": [
    {
     "data": {
      "text/plain": [
       "38.6"
      ]
     },
     "execution_count": 8,
     "metadata": {},
     "output_type": "execute_result"
    }
   ],
   "source": [
    "des['min']+add_amt*5"
   ]
  },
  {
   "cell_type": "code",
   "execution_count": 9,
   "metadata": {
    "scrolled": true
   },
   "outputs": [],
   "source": [
    "df['temp_c'] = np.select([df['temp']<(des['min']+add_amt), df['temp']<(des['min']+add_amt*2), df['temp']<(des['min']+add_amt*3),\\\n",
    "                          df['temp']<(des['min']+add_amt*4), df['temp']<(des['min']+add_amt*5)],\\\n",
    "                        [1,2,3,4,5],default='NA')"
   ]
  },
  {
   "cell_type": "code",
   "execution_count": 10,
   "metadata": {
    "scrolled": true
   },
   "outputs": [
    {
     "data": {
      "text/plain": [
       "Cause      0\n",
       "humi       3\n",
       "temp      11\n",
       "wind      13\n",
       "rain       0\n",
       "dew        6\n",
       "snow       0\n",
       "dew_c      6\n",
       "wind_c    13\n",
       "temp_c     0\n",
       "humi_c     3\n",
       "rain_c     0\n",
       "snow_c     0\n",
       "dtype: int64"
      ]
     },
     "execution_count": 10,
     "metadata": {},
     "output_type": "execute_result"
    }
   ],
   "source": [
    "df.isna().sum()"
   ]
  },
  {
   "cell_type": "code",
   "execution_count": 23,
   "metadata": {},
   "outputs": [],
   "source": [
    "df['rain_c'] = np.where(df['rain']==0, 0, 1)"
   ]
  },
  {
   "cell_type": "code",
   "execution_count": 24,
   "metadata": {},
   "outputs": [],
   "source": [
    "df['snow_c'] = np.where(df['snow']==0, 0,1)"
   ]
  },
  {
   "cell_type": "code",
   "execution_count": 11,
   "metadata": {},
   "outputs": [],
   "source": [
    "df.to_excel('comb_mini_c.xlsx')"
   ]
  },
  {
   "cell_type": "code",
   "execution_count": 2,
   "metadata": {},
   "outputs": [],
   "source": [
    "df = pd.read_excel('/Users/lesson6_mac/Downloads/TeamProject/comb_mini_c.xlsx')"
   ]
  },
  {
   "cell_type": "code",
   "execution_count": null,
   "metadata": {},
   "outputs": [],
   "source": []
  }
 ],
 "metadata": {
  "kernelspec": {
   "display_name": "Python 3",
   "language": "python",
   "name": "python3"
  },
  "language_info": {
   "codemirror_mode": {
    "name": "ipython",
    "version": 3
   },
   "file_extension": ".py",
   "mimetype": "text/x-python",
   "name": "python",
   "nbconvert_exporter": "python",
   "pygments_lexer": "ipython3",
   "version": "3.5.5"
  }
 },
 "nbformat": 4,
 "nbformat_minor": 2
}
