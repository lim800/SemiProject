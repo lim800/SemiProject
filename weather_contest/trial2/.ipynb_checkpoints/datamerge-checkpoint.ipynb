{
 "cells": [
  {
   "cell_type": "code",
   "execution_count": 18,
   "metadata": {},
   "outputs": [],
   "source": [
    "dlist = {'경기날씨':'경기눈', '경남날씨':'경남눈','경북날씨':'경북눈','서울날씨':'서울눈'}"
   ]
  },
  {
   "cell_type": "code",
   "execution_count": 21,
   "metadata": {},
   "outputs": [],
   "source": [
    "for i, j in dlist.items():\n",
    "    df1 = pd.read_csv('/Users/lesson6_mac/Downloads/TeamProject/history/New/{}.csv'.format(i))\n",
    "    df2= pd.read_csv('/Users/lesson6_mac/Downloads/TeamProject/history/New/{}.csv'.format(j))\n",
    "    df = df1.merge(df2, on='date')\n",
    "    df.to_excel('{}{}.xlsx'.format(i,j))"
   ]
  },
  {
   "cell_type": "code",
   "execution_count": null,
   "metadata": {},
   "outputs": [],
   "source": []
  }
 ],
 "metadata": {
  "kernelspec": {
   "display_name": "Python 3",
   "language": "python",
   "name": "python3"
  },
  "language_info": {
   "codemirror_mode": {
    "name": "ipython",
    "version": 3
   },
   "file_extension": ".py",
   "mimetype": "text/x-python",
   "name": "python",
   "nbconvert_exporter": "python",
   "pygments_lexer": "ipython3",
   "version": "3.5.5"
  }
 },
 "nbformat": 4,
 "nbformat_minor": 2
}
